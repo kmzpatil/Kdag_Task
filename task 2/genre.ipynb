{
 "cells": [
  {
   "cell_type": "code",
   "execution_count": 161,
   "metadata": {},
   "outputs": [],
   "source": [
    "import numpy as np\n",
    "import pandas as pd\n",
    "import matplotlib.pyplot as plt"
   ]
  },
  {
   "cell_type": "markdown",
   "metadata": {},
   "source": [
    "## *Importing and Distributing Data*"
   ]
  },
  {
   "cell_type": "code",
   "execution_count": 162,
   "metadata": {},
   "outputs": [
    {
     "name": "stdout",
     "output_type": "stream",
     "text": [
      "   song_id keyword_1  keyword_2  keyword_3      genre\n",
      "0       74    guitar      happy  distorted       rock\n",
      "1      103     brass  energetic    melodic  classical\n",
      "2      201     banjo      happy   acoustic    country\n",
      "3      194     synth  energetic      heavy    hip-hop\n",
      "4      184     synth  energetic       slow    hip-hop\n"
     ]
    }
   ],
   "source": [
    "musics = pd.read_csv('TASK2_dataset.csv')\n",
    "print(musics.head())\n",
    "\n",
    "\n",
    "key1 = musics.keyword_1.unique()\n",
    "key2 = musics.keyword_2.unique()\n",
    "key3 = musics.keyword_3.unique()\n",
    "genre = musics.genre.unique()\n",
    "count = len(musics.genre)"
   ]
  },
  {
   "cell_type": "markdown",
   "metadata": {},
   "source": [
    "# *Vectorisation*"
   ]
  },
  {
   "cell_type": "markdown",
   "metadata": {},
   "source": [
    "## BOW"
   ]
  },
  {
   "cell_type": "code",
   "execution_count": 163,
   "metadata": {},
   "outputs": [],
   "source": [
    "key_BOW_1 = np.zeros((count,len(key1)))\n",
    "key_BOW_2 = np.zeros((count,len(key2)))\n",
    "key_BOW_3 = np.zeros((count,len(key3)))\n",
    "\n",
    "\n",
    "for i in range(count):\n",
    "    for j in range(len(key1)):\n",
    "        if key1[j] in musics.keyword_1[i]:\n",
    "            key_BOW_1[i][j] += 1\n",
    "    \n",
    "    for j in range(len(key2)):\n",
    "        if key2[j] in musics.keyword_2[i]:\n",
    "            key_BOW_2[i][j] += 1\n",
    "    \n",
    "    for j in range(len(key3)):\n",
    "        if key3[j] in musics.keyword_3[i]:\n",
    "            key_BOW_3[i][j] += 1\n",
    "            "
   ]
  },
  {
   "cell_type": "markdown",
   "metadata": {},
   "source": [
    "## TF-IDF"
   ]
  },
  {
   "cell_type": "code",
   "execution_count": 164,
   "metadata": {},
   "outputs": [],
   "source": [
    "tf_1 = np.copy(key_BOW_1)/3\n",
    "tf_2 = np.copy(key_BOW_2)/3\n",
    "tf_3 = np.copy(key_BOW_3)/3\n",
    "\n",
    "idf_1 = np.zeros(len(key1))\n",
    "idf_2 = np.zeros(len(key2))\n",
    "idf_3 = np.zeros(len(key3))\n",
    "\n",
    "for i in range(len(key1)):\n",
    "    idf_1[i] = np.log((count+1)/sum(tf_1[:,i]+1))\n",
    "for i in range(len(key2)):\n",
    "    idf_2[i] = np.log((count+1)/sum(tf_2[:,i]+1))\n",
    "for i in range(len(key3)):\n",
    "    idf_3[i] = np.log((count+1)/sum(tf_3[:,i]+1))\n",
    "    \n",
    "tfidf_1 = tf_1 * idf_1\n",
    "tfidf_2 = tf_2 * idf_2\n",
    "tfidf_3 = tf_3 * idf_3"
   ]
  },
  {
   "cell_type": "markdown",
   "metadata": {},
   "source": [
    "# *PCA*"
   ]
  },
  {
   "cell_type": "code",
   "execution_count": 165,
   "metadata": {},
   "outputs": [],
   "source": [
    "def pca(set):\n",
    "    temp = set - np.mean(set)\n",
    "    temp = temp / np.std(temp)\n",
    "    \n",
    "    temp = np.cov (temp.T)\n",
    "    \n",
    "    eigenval , eigenvect = np.linalg.eig(temp)\n",
    "    \n",
    "    indepcas = np.argsort(eigenval)[::-1]\n",
    "\n",
    "    eigenvect = eigenvect[:,indepcas[0:2]]\n",
    "    \n",
    "    temp = set @ eigenvect\n",
    "    \n",
    "    return temp\n",
    "    \n",
    "    \n",
    "\n",
    "pca_1_tf = pca(tfidf_1)\n",
    "pca_2_tf = pca(tfidf_2)\n",
    "pca_3_tf = pca(tfidf_3)\n",
    "\n",
    "pcas_tf =  np.cbrt(pca_1_tf**5 + pca_2_tf**5 + pca_3_tf**5)\n",
    "\n",
    "\n",
    "\n",
    "pca_1_bow = pca(key_BOW_1)\n",
    "pca_2_bow = pca(key_BOW_2)\n",
    "pca_3_bow = pca(key_BOW_3)\n",
    "\n",
    "pcas_bow = np.cbrt(pca_1_bow**5 + pca_2_bow**5 + pca_3_bow**5)\n",
    "    "
   ]
  },
  {
   "cell_type": "markdown",
   "metadata": {},
   "source": [
    "# *K-Means*"
   ]
  },
  {
   "cell_type": "code",
   "execution_count": 166,
   "metadata": {},
   "outputs": [],
   "source": [
    "\n",
    "cents = 10\n",
    "def kmeans(pcas):\n",
    "\n",
    "    np.random.seed(100)  \n",
    "    centroids = pcas[np.random.choice(range(len(pcas)),cents , replace=False)]\n",
    "\n",
    "    for i in range(100):\n",
    "        distances = np.linalg.norm(pcas[:, np.newaxis] - centroids, axis=2)\n",
    "        labels = np.argmin(distances, axis=1)\n",
    "\n",
    "        new_centroids = np.array([pcas[labels == j].mean(axis=0) for j in range(cents)])\n",
    "\n",
    "        centroids = new_centroids\n",
    "    return centroids,labels\n",
    "    \n",
    "\n",
    "centroids_tf, labels_tf = kmeans(pcas_tf)\n",
    "centroids_bow, labels_bow = kmeans(pcas_bow)\n",
    "        "
   ]
  },
  {
   "cell_type": "markdown",
   "metadata": {},
   "source": [
    "# Plot of the PCA distribution"
   ]
  },
  {
   "cell_type": "code",
   "execution_count": 167,
   "metadata": {},
   "outputs": [
    {
     "data": {
      "image/png": "[encoded data removed]",
      "text/plain": [
       "<Figure size 600x600 with 1 Axes>"
      ]
     },
     "metadata": {},
     "output_type": "display_data"
    },
    {
     "data": {
      "image/png": "[encoded data removed]",
      "text/plain": [
       "<Figure size 600x600 with 1 Axes>"
      ]
     },
     "metadata": {},
     "output_type": "display_data"
    }
   ],
   "source": [
    "def plot(pcas,centroids, labels,cents):\n",
    "\n",
    "    plt.figure(figsize=(6,6))\n",
    "    for i in range(cents):\n",
    "        plt.scatter(pcas[labels == i][:, 0], pcas[labels == i][:, 1],s=10 )\n",
    "    plt.scatter(centroids[:, 0], centroids[:, 1], marker='.', color='red', s=100, label=\"Centroids\")\n",
    "    plt.title(\"K-Means Clustering Result\")\n",
    "    plt.show()\n",
    "\n",
    "plot(pcas_tf , centroids_tf , labels_tf , cents)\n",
    "plot(pcas_bow , centroids_bow , labels_bow , cents)"
   ]
  },
  {
   "cell_type": "markdown",
   "metadata": {},
   "source": [
    "# Distribution table for clusters and genre"
   ]
  },
  {
   "cell_type": "code",
   "execution_count": 168,
   "metadata": {},
   "outputs": [
    {
     "name": "stdout",
     "output_type": "stream",
     "text": [
      "genre     classical    country    hip-hop        pop       rock\n",
      "Cluster                                                        \n",
      "0          0.000000   0.000000  74.074074  25.925926   0.000000\n",
      "1          0.000000  40.000000   0.000000  10.000000  50.000000\n",
      "2         66.666667  16.666667   0.000000  16.666667   0.000000\n",
      "3          0.000000  33.333333   0.000000  18.181818  48.484848\n",
      "4         57.142857  14.285714   0.000000  28.571429   0.000000\n",
      "5          0.000000  36.363636   0.000000  22.727273  40.909091\n",
      "6         45.454545  27.272727   0.000000  27.272727   0.000000\n",
      "7        100.000000   0.000000   0.000000   0.000000   0.000000\n",
      "8         88.888889  11.111111   0.000000   0.000000   0.000000\n",
      "9          0.000000   0.000000  62.500000  37.500000   0.000000\n",
      "genre     classical    country    hip-hop        pop       rock\n",
      "Cluster                                                        \n",
      "0         16.666667   0.000000  50.000000  33.333333   0.000000\n",
      "1          6.250000  18.750000  25.000000  25.000000  25.000000\n",
      "2         40.000000  20.000000  20.000000  20.000000   0.000000\n",
      "3         16.666667  33.333333   0.000000  33.333333  16.666667\n",
      "4         22.222222  22.222222  33.333333  22.222222   0.000000\n",
      "5         11.764706  35.294118   5.882353  17.647059  29.411765\n",
      "6         42.857143   7.142857  28.571429  21.428571   0.000000\n",
      "7        100.000000   0.000000   0.000000   0.000000   0.000000\n",
      "8         13.888889  27.777778   0.000000  13.888889  44.444444\n",
      "9         26.666667   6.666667  46.666667  20.000000   0.000000\n"
     ]
    }
   ],
   "source": [
    "def distribution_table(labels):\n",
    "\n",
    "    musics[\"Cluster\"] = labels  \n",
    "\n",
    "\n",
    "    genre_distribution = musics.groupby([\"Cluster\", \"genre\"]).size().unstack().fillna(0)\n",
    "\n",
    "\n",
    "    genre_distribution = genre_distribution.div(genre_distribution.sum(axis=1), axis=0) * 100\n",
    "\n",
    "\n",
    "    print(genre_distribution)\n",
    "    \n",
    "distribution_table(labels_tf)\n",
    "distribution_table(labels_bow)"
   ]
  },
  {
   "cell_type": "markdown",
   "metadata": {},
   "source": [
    "# Checking for Silhouette Score"
   ]
  },
  {
   "cell_type": "code",
   "execution_count": 169,
   "metadata": {},
   "outputs": [
    {
     "name": "stdout",
     "output_type": "stream",
     "text": [
      "Silhouette Score: 0.7632515324106137\n",
      "Silhouette Score: 0.5039214943156746\n"
     ]
    }
   ],
   "source": [
    "def silhouette_score(pcas,labels):\n",
    "    n = pcas.shape[0]\n",
    "    unique_clusters = np.unique(labels)  \n",
    "\n",
    "    a_values = np.zeros(n)  \n",
    "\n",
    "    for i in range(n):\n",
    "        own_cluster = labels[i]\n",
    "        own_cluster_points = pcas[labels == own_cluster] \n",
    "    \n",
    "        if len(own_cluster_points) > 1:\n",
    "           distances = [np.linalg.norm(pcas[i] - p) for p in own_cluster_points if not np.array_equal(pcas[i], p)]\n",
    "           a_values[i] = np.mean(distances) \n",
    "        else:\n",
    "            a_values[i] = 0 \n",
    "\n",
    "    b_values = np.zeros(n)\n",
    "\n",
    "    for i in range(n):\n",
    "        own_cluster = labels[i]\n",
    "        min_cluster_distance = float('inf')\n",
    "\n",
    "        for cluster in unique_clusters:\n",
    "            if cluster == own_cluster:\n",
    "                continue  \n",
    "\n",
    "            other_cluster_points = pcas[labels == cluster]\n",
    "            mean_distance = np.mean([np.linalg.norm(pcas[i] - p) for p in other_cluster_points])\n",
    "            min_cluster_distance = min(min_cluster_distance, float(mean_distance))  \n",
    "\n",
    "        b_values[i] = min_cluster_distance\n",
    "\n",
    "\n",
    "    silhouette_scores = np.zeros(n)\n",
    "\n",
    "    for i in range(n):\n",
    "        silhouette_scores[i] = (b_values[i] - a_values[i]) / max(a_values[i], b_values[i])\n",
    "\n",
    "    silhouette_score = np.mean(silhouette_scores)\n",
    "\n",
    "    print(\"Silhouette Score:\", silhouette_score)\n",
    "    \n",
    "\n",
    "silhouette_score(pcas_tf,labels_tf)\n",
    "silhouette_score(pcas_bow,labels_bow)"
   ]
  },
  {
   "cell_type": "code",
   "execution_count": 170,
   "metadata": {},
   "outputs": [
    {
     "name": "stdout",
     "output_type": "stream",
     "text": [
      "[[ 0.  0.  0. 30. 13.]\n",
      " [ 6.  4.  5.  6.  0.]\n",
      " [ 0.  0.  0.  0.  5.]]\n",
      "[3.4300000e+02 1.2500000e+02 2.1600000e+02 1.0218313e+07 5.9270400e+05]\n",
      "['hip-hop' 'pop' 'rock' 'country' 'classical']\n"
     ]
    }
   ],
   "source": [
    "import numpy as np\n",
    "\n",
    "def predict_genre(keyword1, keyword2, keyword3, musics, genre):\n",
    "    key_rep = np.zeros((3,len(genre)))\n",
    "    for j in range(len(genre)):\n",
    "        for k in range(len(musics.genre)):\n",
    "            if genre[j] == musics.genre[k]:\n",
    "                if keyword1 == musics.keyword_1[k]:\n",
    "                    key_rep[0][j] += 1\n",
    "                if keyword2 == musics.keyword_2[k]:\n",
    "                    key_rep[1][j] += 1\n",
    "                if keyword3 == musics.keyword_3[k]:\n",
    "                    key_rep[2][j] += 1\n",
    "    print (key_rep)\n",
    "    key_mult = (key_rep[0]+1)**3 * (key_rep[1]+1)**3 * (key_rep[2]+1)**3\n",
    "    print(key_mult)\n",
    "    return genre[np.argsort(key_mult)[::-1]]\n",
    "    \n",
    "            \n",
    "\n",
    "# Example usage:\n",
    "k1, k2, k3 = \"synth\", \"sad\", \"danceable\"\n",
    "print(predict_genre(k1, k2, k3, musics, genre))"
   ]
  }
 ],
 "metadata": {
  "kernelspec": {
   "display_name": ".venv",
   "language": "python",
   "name": "python3"
  },
  "language_info": {
   "codemirror_mode": {
    "name": "ipython",
    "version": 3
   },
   "file_extension": ".py",
   "mimetype": "text/x-python",
   "name": "python",
   "nbconvert_exporter": "python",
   "pygments_lexer": "ipython3",
   "version": "3.12.5"
  }
 },
 "nbformat": 4,
 "nbformat_minor": 2
}
