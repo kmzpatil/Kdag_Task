{
 "cells": [
  {
   "cell_type": "code",
   "execution_count": 117,
   "metadata": {},
   "outputs": [],
   "source": [
    "import numpy as np\n",
    "import pandas as pd\n",
    "import matplotlib.pyplot as plt"
   ]
  },
  {
   "cell_type": "code",
   "execution_count": 118,
   "metadata": {},
   "outputs": [],
   "source": [
    "set = pd.read_csv('TASK2_dataset.csv')\n",
    "\n",
    "key1 = set.keyword_1.unique()\n",
    "key2 = set.keyword_2.unique()\n",
    "key3 = set.keyword_3.unique()\n",
    "keys = np.concatenate([key1, key2, key3])\n",
    "genre = set.genre\n",
    "\n"
   ]
  },
  {
   "cell_type": "code",
   "execution_count": 119,
   "metadata": {},
   "outputs": [],
   "source": [
    "set_keys = np.zeros((len(genre),len(keys)))\n",
    "\n",
    "\n",
    "for j in range(len(keys)):\n",
    "    for i in range(len(genre)):\n",
    "        if ((keys[j] == set.keyword_1[i])|(keys[j] == set.keyword_2[i])|(keys[j] == set.keyword_3[i])):\n",
    "            set_keys[i,j] = 1\n",
    "\n",
    " "
   ]
  },
  {
   "cell_type": "code",
   "execution_count": 120,
   "metadata": {},
   "outputs": [],
   "source": [
    "tf_keys = np.zeros((len(genre),len(keys)))\n",
    "\n",
    " \n",
    "for i in range(len(genre)):\n",
    "    for j in range(len(keys)):\n",
    "            tf_keys[i, j] = set_keys[i,j] / 3  \n",
    "\n",
    "\n",
    "\n",
    "idf_keys = np.zeros(len(keys))\n",
    "\n",
    "for i in range(len(idf_keys)):\n",
    "    idf_keys[i] = np.log10(len(genre) / np.sum(tf_keys[:,i]))\n",
    "\n",
    "\n",
    "\n",
    "tfidf_keys = tf_keys * idf_keys\n"
   ]
  },
  {
   "cell_type": "code",
   "execution_count": 123,
   "metadata": {},
   "outputs": [
    {
     "name": "stdout",
     "output_type": "stream",
     "text": [
      "(147, 25)\n",
      "(147, 147)\n"
     ]
    }
   ],
   "source": [
    "tfidf_keys = tfidf_keys - np.mean(tfidf_keys)\n",
    "print(tfidf_keys.shape)\n",
    "\n",
    "cov_keys = np.cov(tfidf_keys)\n",
    "print(cov_keys.shape)"
   ]
  }
 ],
 "metadata": {
  "kernelspec": {
   "display_name": ".venv",
   "language": "python",
   "name": "python3"
  },
  "language_info": {
   "codemirror_mode": {
    "name": "ipython",
    "version": 3
   },
   "file_extension": ".py",
   "mimetype": "text/x-python",
   "name": "python",
   "nbconvert_exporter": "python",
   "pygments_lexer": "ipython3",
   "version": "3.12.5"
  }
 },
 "nbformat": 4,
 "nbformat_minor": 2
}
